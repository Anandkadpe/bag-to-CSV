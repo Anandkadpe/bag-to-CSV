{
 "cells": [
  {
   "cell_type": "code",
   "execution_count": 76,
   "metadata": {},
   "outputs": [],
   "source": [
    "import pandas as pd\n",
    "import os\n",
    "import matplotlib.pyplot as plt"
   ]
  },
  {
   "cell_type": "code",
   "execution_count": 77,
   "metadata": {},
   "outputs": [],
   "source": [
    "# Define the base folder\n",
    "base_folder = r\"D:\\bag_project\""
   ]
  },
  {
   "cell_type": "code",
   "execution_count": 78,
   "metadata": {},
   "outputs": [],
   "source": [
    "import pandas as pd\n",
    "import os\n",
    "import matplotlib.pyplot as plt"
   ]
  },
  {
   "cell_type": "code",
   "execution_count": 79,
   "metadata": {},
   "outputs": [],
   "source": [
    "# Initialize an empty list to store the data\n",
    "data = []"
   ]
  },
  {
   "cell_type": "code",
   "execution_count": 80,
   "metadata": {},
   "outputs": [
    {
     "name": "stdout",
     "output_type": "stream",
     "text": [
      "Processing file: D:\\bag_project\\New folder\\_anavs_solution_pos_llh.csv\n",
      "Processing file: D:\\bag_project\\New folder (2)\\_anavs_solution_pos_llh.csv\n",
      "Processing file: D:\\bag_project\\New folder (3)\\_anavs_solution_pos_llh.csv\n",
      "Processing file: D:\\bag_project\\New folder (4)\\_anavs_solution_pos_llh.csv\n",
      "Processing file: D:\\bag_project\\New folder (5)\\_anavs_solution_pos_llh.csv\n",
      "Processing file: D:\\bag_project\\New folder (6)\\_anavs_solution_pos_llh.csv\n",
      "Processing file: D:\\bag_project\\New folder (7)\\_anavs_solution_pos_llh.csv\n",
      "Processing file: D:\\bag_project\\_anavs_solution_pos_llh\\_anavs_solution_pos_llh.csv\n"
     ]
    }
   ],
   "source": [
    "# Function to check and read CSV files\n",
    "def process_csv_file(file_path):\n",
    "    try:\n",
    "        # Read the CSV file\n",
    "        df = pd.read_csv(file_path)\n",
    "\n",
    "        # Ensure the 'Timestamp' column exists\n",
    "        timestamp_col = None\n",
    "        for col in df.columns:\n",
    "            if col.strip().lower() == 'timestamp':\n",
    "                timestamp_col = col\n",
    "                break\n",
    "        \n",
    "        if timestamp_col:\n",
    "            # Convert the 'Timestamp' column to datetime\n",
    "            df[timestamp_col] = pd.to_datetime(df[timestamp_col], unit='s')\n",
    "            \n",
    "            # Calculate the duration\n",
    "            start_time = df[timestamp_col].min()\n",
    "            end_time = df[timestamp_col].max()\n",
    "            duration = (end_time - start_time).total_seconds() / 60  # Convert seconds to minutes\n",
    "            \n",
    "            # Store the result in the data list\n",
    "            data.append({\n",
    "                'file_path': file_path,\n",
    "                'duration_minutes': duration\n",
    "            })\n",
    "        else:\n",
    "            print(f\"Timestamp column not found in {file_path}\")\n",
    "    except Exception as e:\n",
    "        print(f\"Error reading {file_path}: {e}\")\n",
    "\n",
    "# Traverse the directory structure\n",
    "for subfolder in os.listdir(base_folder):\n",
    "    subfolder_path = os.path.join(base_folder, subfolder)\n",
    "    \n",
    "    if os.path.isdir(subfolder_path):\n",
    "        # Construct the path to the _anavs_solution_pos_llh.csv file\n",
    "        csv_file_path = os.path.join(subfolder_path, \"_anavs_solution_pos_llh.csv\")\n",
    "        \n",
    "        if os.path.isfile(csv_file_path):\n",
    "            print(f\"Processing file: {csv_file_path}\")\n",
    "            process_csv_file(csv_file_path)\n",
    "        "
   ]
  },
  {
   "cell_type": "code",
   "execution_count": 81,
   "metadata": {},
   "outputs": [],
   "source": [
    "# Create a DataFrame from the data\n",
    "result_df = pd.DataFrame(data)"
   ]
  },
  {
   "cell_type": "code",
   "execution_count": 82,
   "metadata": {},
   "outputs": [
    {
     "data": {
      "text/html": [
       "<div>\n",
       "<style scoped>\n",
       "    .dataframe tbody tr th:only-of-type {\n",
       "        vertical-align: middle;\n",
       "    }\n",
       "\n",
       "    .dataframe tbody tr th {\n",
       "        vertical-align: top;\n",
       "    }\n",
       "\n",
       "    .dataframe thead th {\n",
       "        text-align: right;\n",
       "    }\n",
       "</style>\n",
       "<table border=\"1\" class=\"dataframe\">\n",
       "  <thead>\n",
       "    <tr style=\"text-align: right;\">\n",
       "      <th></th>\n",
       "      <th>file_path</th>\n",
       "      <th>duration_minutes</th>\n",
       "    </tr>\n",
       "  </thead>\n",
       "  <tbody>\n",
       "    <tr>\n",
       "      <th>0</th>\n",
       "      <td>D:\\bag_project\\New folder\\_anavs_solution_pos_...</td>\n",
       "      <td>15.991929</td>\n",
       "    </tr>\n",
       "    <tr>\n",
       "      <th>1</th>\n",
       "      <td>D:\\bag_project\\New folder (2)\\_anavs_solution_...</td>\n",
       "      <td>15.991929</td>\n",
       "    </tr>\n",
       "    <tr>\n",
       "      <th>2</th>\n",
       "      <td>D:\\bag_project\\New folder (3)\\_anavs_solution_...</td>\n",
       "      <td>15.991929</td>\n",
       "    </tr>\n",
       "    <tr>\n",
       "      <th>3</th>\n",
       "      <td>D:\\bag_project\\New folder (4)\\_anavs_solution_...</td>\n",
       "      <td>15.991929</td>\n",
       "    </tr>\n",
       "    <tr>\n",
       "      <th>4</th>\n",
       "      <td>D:\\bag_project\\New folder (5)\\_anavs_solution_...</td>\n",
       "      <td>15.991929</td>\n",
       "    </tr>\n",
       "    <tr>\n",
       "      <th>5</th>\n",
       "      <td>D:\\bag_project\\New folder (6)\\_anavs_solution_...</td>\n",
       "      <td>15.991929</td>\n",
       "    </tr>\n",
       "    <tr>\n",
       "      <th>6</th>\n",
       "      <td>D:\\bag_project\\New folder (7)\\_anavs_solution_...</td>\n",
       "      <td>15.991929</td>\n",
       "    </tr>\n",
       "    <tr>\n",
       "      <th>7</th>\n",
       "      <td>D:\\bag_project\\_anavs_solution_pos_llh\\_anavs_...</td>\n",
       "      <td>15.991929</td>\n",
       "    </tr>\n",
       "  </tbody>\n",
       "</table>\n",
       "</div>"
      ],
      "text/plain": [
       "                                           file_path  duration_minutes\n",
       "0  D:\\bag_project\\New folder\\_anavs_solution_pos_...         15.991929\n",
       "1  D:\\bag_project\\New folder (2)\\_anavs_solution_...         15.991929\n",
       "2  D:\\bag_project\\New folder (3)\\_anavs_solution_...         15.991929\n",
       "3  D:\\bag_project\\New folder (4)\\_anavs_solution_...         15.991929\n",
       "4  D:\\bag_project\\New folder (5)\\_anavs_solution_...         15.991929\n",
       "5  D:\\bag_project\\New folder (6)\\_anavs_solution_...         15.991929\n",
       "6  D:\\bag_project\\New folder (7)\\_anavs_solution_...         15.991929\n",
       "7  D:\\bag_project\\_anavs_solution_pos_llh\\_anavs_...         15.991929"
      ]
     },
     "execution_count": 82,
     "metadata": {},
     "output_type": "execute_result"
    }
   ],
   "source": [
    "result_df"
   ]
  },
  {
   "cell_type": "code",
   "execution_count": 83,
   "metadata": {},
   "outputs": [
    {
     "name": "stdout",
     "output_type": "stream",
     "text": [
      "                                           file_path  duration_minutes\n",
      "0  D:\\bag_project\\New folder\\_anavs_solution_pos_...         15.991929\n",
      "1  D:\\bag_project\\New folder (2)\\_anavs_solution_...         15.991929\n",
      "2  D:\\bag_project\\New folder (3)\\_anavs_solution_...         15.991929\n",
      "3  D:\\bag_project\\New folder (4)\\_anavs_solution_...         15.991929\n",
      "4  D:\\bag_project\\New folder (5)\\_anavs_solution_...         15.991929\n",
      "5  D:\\bag_project\\New folder (6)\\_anavs_solution_...         15.991929\n",
      "6  D:\\bag_project\\New folder (7)\\_anavs_solution_...         15.991929\n",
      "7  D:\\bag_project\\_anavs_solution_pos_llh\\_anavs_...         15.991929\n",
      "Finished processing files.\n"
     ]
    }
   ],
   "source": [
    "# Display the DataFrame\n",
    "print(result_df)\n",
    "\n",
    "print(\"Finished processing files.\")"
   ]
  },
  {
   "cell_type": "code",
   "execution_count": 84,
   "metadata": {},
   "outputs": [],
   "source": [
    "# Save the DataFrame as a CSV file\n",
    "output_csv_path = r\"D:\\bag_project\\duration_data_for_Swaraj_v2.csv\"\n",
    "result_df.to_csv(output_csv_path, index=False)"
   ]
  },
  {
   "cell_type": "code",
   "execution_count": 85,
   "metadata": {},
   "outputs": [
    {
     "data": {
      "image/png": "[encoded data removed]",
      "text/plain": [
       "<Figure size 1000x600 with 1 Axes>"
      ]
     },
     "metadata": {},
     "output_type": "display_data"
    }
   ],
   "source": [
    "#Plotting the results\n",
    "plt.figure(figsize=(10, 6))\n",
    "plt.hist(result_df['duration_minutes'], bins=100, edgecolor='black', alpha=0.7)\n",
    "plt.title('Distribution of testruns\\' time durations')\n",
    "plt.xlabel('Testrun duration (minutes)')\n",
    "plt.ylabel('Frequency')\n",
    "plt.grid(True)"
   ]
  }
 ],
 "metadata": {
  "kernelspec": {
   "display_name": "Python 3",
   "language": "python",
   "name": "python3"
  },
  "language_info": {
   "codemirror_mode": {
    "name": "ipython",
    "version": 3
   },
   "file_extension": ".py",
   "mimetype": "text/x-python",
   "name": "python",
   "nbconvert_exporter": "python",
   "pygments_lexer": "ipython3",
   "version": "3.11.9"
  }
 },
 "nbformat": 4,
 "nbformat_minor": 2
}
